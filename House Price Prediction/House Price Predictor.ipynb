{
 "cells": [
  {
   "cell_type": "code",
   "execution_count": null,
   "id": "4a2871e0",
   "metadata": {},
   "outputs": [],
   "source": [
    "# House price predictor\n",
    "# Importing the important modules\n",
    "import pandas as pd\n",
    "import numpy as np\n",
    "import matplotlib.pyplot as plt\n",
    "\n",
    "# To get the data set, easiest way we can do is import scikit library (To be specific, California)\n",
    "from sklearn.datasets import fetch_california_housing\n",
    "\n",
    "# Exploratory Data Analysis (We use the inbuilt tool, sweetviz)\n",
    "import sweetviz as sv"
   ]
  },
  {
   "cell_type": "code",
   "execution_count": null,
   "id": "adf6c80f",
   "metadata": {},
   "outputs": [],
   "source": [
    "# Get the data set\n",
    "data = fetch_california_housing() # This is the independent data, which we used to train our ML model\n",
    "# print(data.DESCR)\n",
    "\n",
    "# Creating a data frame\n",
    "data_frame = pd.DataFrame(data = data.data, columns = data.feature_names)\n",
    "print(data_frame.head())"
   ]
  },
  {
   "cell_type": "code",
   "execution_count": null,
   "id": "58c5a2e5",
   "metadata": {},
   "outputs": [],
   "source": [
    "# Depedent data/variable\n",
    "data_frame['House Price'] = data.target # We are adding another attributes called 'House Price' in the table. Which is the target\n",
    "print(data_frame.head(10))"
   ]
  },
  {
   "cell_type": "code",
   "execution_count": null,
   "id": "8ced16e1",
   "metadata": {},
   "outputs": [],
   "source": [
    "# Exploratory Data Analysis (To find correlation between the attributes data) (We use the inbuilt tool, sweetviz)\n",
    "report = sv.analyze(data_frame)\n",
    "report.show_html(\"./report.html\")"
   ]
  },
  {
   "cell_type": "code",
   "execution_count": null,
   "id": "0d4c98df",
   "metadata": {},
   "outputs": [],
   "source": [
    "## Data Pre Processing.\n",
    "#Feature Engineering\n",
    "from geopy.geocoders import Nominatim\n",
    "'''\n",
    "geolocator = Nominatim(user_agent = 'geoapiExercises') \n",
    "geolocator.reverse(\"37.88 \"+ \", \" + \"-122.23 \")# Everytime we pass latitude and longitude, it goes through the web and finds the geographical location\n",
    "data_frame = data_frame.drop(labels = [\"Latitude\", \"Longitude\"], axis = 1)\n",
    "print(data_frame.head(10))\n",
    "data_frame.info()\n",
    "'''"
   ]
  },
  {
   "cell_type": "code",
   "execution_count": null,
   "id": "afc4c3dc",
   "metadata": {},
   "outputs": [],
   "source": [
    "# Using classification algorithm to fill the missing categorical values"
   ]
  },
  {
   "cell_type": "code",
   "execution_count": null,
   "id": "0434693a",
   "metadata": {},
   "outputs": [],
   "source": [
    "# Droping these two features\n",
    "data_frame = data_frame.drop(labels = [\"Latitude\", \"Longitude\"], axis = 1)"
   ]
  },
  {
   "cell_type": "code",
   "execution_count": null,
   "id": "1926db09",
   "metadata": {},
   "outputs": [],
   "source": [
    "# Understanding which model to use\n",
    "y = data_frame.iloc[:, -1].values  # to extract all the row values, but only the values of the last attributes(which is House price)\n",
    "data_frame.drop(labels=['House Price'], axis = 1, inplace = True)\n",
    "X = data_frame.iloc[:, :].values"
   ]
  },
  {
   "cell_type": "code",
   "execution_count": null,
   "id": "67528530",
   "metadata": {},
   "outputs": [],
   "source": [
    "from sklearn.model_selection import train_test_split\n",
    "# train_test_split?\n",
    "\n",
    "X_train, X_test, y_train, y_test = train_test_split(X, y, test_size = 0.20, random_state = 42) # test_size(split ratio) is the percentage we gave for testing data set"
   ]
  },
  {
   "cell_type": "code",
   "execution_count": null,
   "id": "f8637472",
   "metadata": {},
   "outputs": [],
   "source": [
    "# Linear Regression Algorithm we use\n",
    "from sklearn.ensemble import RandomForestRegressor\n",
    "\n",
    "model = RandomForestRegressor() # Creating an object of RandomForestRegressor algorithm\n",
    "model.fit(X_train, y_train)  # This is to train the model"
   ]
  },
  {
   "cell_type": "code",
   "execution_count": null,
   "id": "ce46dc0f",
   "metadata": {},
   "outputs": [],
   "source": [
    "# For model prediction\n",
    "y_predic = model.predict(X_test) # To predict the X test values"
   ]
  },
  {
   "cell_type": "code",
   "execution_count": null,
   "id": "3c4c5844",
   "metadata": {},
   "outputs": [],
   "source": [
    "# Model verification/Accuracy\n",
    "from sklearn.metrics import r2_score  # r2_score is used to find the accuracy of the model by feeding the tested and predicted value\n",
    "r2_score(y_test, y_predic)*100   # Returns the value on a scale from 0-100%."
   ]
  },
  {
   "cell_type": "code",
   "execution_count": null,
   "id": "d3f5beed",
   "metadata": {},
   "outputs": [],
   "source": [
    "# Adding our own to check for our model accuracy\n",
    "input_data = np.array([3.8462, 52.0,  6.281853, 1.081081, 565.0, 2.181467])\n",
    "data_reshaped = input_data.reshape(1, -1)\n",
    "model.predict(data_reshaped)"
   ]
  },
  {
   "cell_type": "code",
   "execution_count": null,
   "id": "b73acd2b",
   "metadata": {},
   "outputs": [],
   "source": []
  }
 ],
 "metadata": {
  "kernelspec": {
   "display_name": "Python 3 (ipykernel)",
   "language": "python",
   "name": "python3"
  },
  "language_info": {
   "codemirror_mode": {
    "name": "ipython",
    "version": 3
   },
   "file_extension": ".py",
   "mimetype": "text/x-python",
   "name": "python",
   "nbconvert_exporter": "python",
   "pygments_lexer": "ipython3",
   "version": "3.10.4"
  }
 },
 "nbformat": 4,
 "nbformat_minor": 5
}
